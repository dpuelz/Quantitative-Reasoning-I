{
 "cells": [
  {
   "cell_type": "code",
   "execution_count": 3,
   "id": "79d5d04d-c8e1-4afa-937f-7ab23bd12e0b",
   "metadata": {},
   "outputs": [
    {
     "name": "stdout",
     "output_type": "stream",
     "text": [
      "ï»¿The Project Gutenberg eBook of The Iliad, by Homer\n",
      "\n",
      "This eBook is for the use of anyone anywhere in the United States and\n",
      "most other parts of the world at no cost and with almost no restrictions\n",
      "whatsoever. You may copy it, give it away or re-use it under the terms\n",
      "of the Project Gutenberg License included with this eBook or online at\n",
      "www.gutenberg.org. If you are not located in the United States, you\n",
      "will have to check the laws of the country where you are located before\n",
      "using this e\n"
     ]
    }
   ],
   "source": [
    "import requests\n",
    "\n",
    "# URL for Homer's The Iliad on Project Gutenberg\n",
    "url = 'https://www.gutenberg.org/files/6130/6130-0.txt'\n",
    "\n",
    "# Download the text\n",
    "response = requests.get(url)\n",
    "\n",
    "# Convert to string format (UTF-8 encoding)\n",
    "text = response.text\n",
    "\n",
    "# Display the first 500 characters to check the content\n",
    "print(text[:500])"
   ]
  },
  {
   "cell_type": "code",
   "execution_count": null,
   "id": "909cc224-a032-4e93-92e0-e1867b6d6c39",
   "metadata": {},
   "outputs": [],
   "source": []
  }
 ],
 "metadata": {
  "kernelspec": {
   "display_name": "Python 3 (ipykernel)",
   "language": "python",
   "name": "python3"
  },
  "language_info": {
   "codemirror_mode": {
    "name": "ipython",
    "version": 3
   },
   "file_extension": ".py",
   "mimetype": "text/x-python",
   "name": "python",
   "nbconvert_exporter": "python",
   "pygments_lexer": "ipython3",
   "version": "3.11.3"
  }
 },
 "nbformat": 4,
 "nbformat_minor": 5
}
