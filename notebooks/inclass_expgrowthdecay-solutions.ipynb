{
 "cells": [
  {
   "cell_type": "markdown",
   "id": "3934a20e-92c9-40e6-a907-599d194e0938",
   "metadata": {},
   "source": [
    "# Exponential Growth + Decay Part 2"
   ]
  },
  {
   "cell_type": "code",
   "execution_count": 10,
   "id": "c4f366cc-3382-417d-a762-47e3b796a86d",
   "metadata": {},
   "outputs": [],
   "source": [
    "import math\n",
    "import numpy as np\n",
    "import pandas as pd\n",
    "import matplotlib.pyplot as plt"
   ]
  },
  {
   "cell_type": "markdown",
   "id": "6333032b-5e04-4dbd-9f25-0f15350ac042",
   "metadata": {},
   "source": [
    "You are tasked with writing two functions, the first should compound an initial dollar amount $A$ by a rate of return $r$, $n$ times over $t$ years, and the second should compound the same initial dollar amount continuously, ie, exponential growth!"
   ]
  },
  {
   "cell_type": "code",
   "execution_count": 11,
   "id": "4439bde8-f6e6-457a-a60f-6e7bdea1d40a",
   "metadata": {},
   "outputs": [],
   "source": [
    "# Discrete compounding function\n",
    "def discrete_compound(initial,r,n,t): \n",
    "    \n",
    "    final = initial*(1+r/n)**(n*t)\n",
    "    \n",
    "    return final # out should be the final amount after compounding"
   ]
  },
  {
   "cell_type": "code",
   "execution_count": 12,
   "id": "5f9e98bb-b22b-4c7c-8719-26b2019d2394",
   "metadata": {},
   "outputs": [],
   "source": [
    "# Continuous compounding function\n",
    "def continuous_compound(initial,r,t): \n",
    "    \n",
    "    final = initial*np.exp(r*t)\n",
    "    \n",
    "    return final # out should be the final amount after compounding"
   ]
  },
  {
   "cell_type": "markdown",
   "id": "650a1a04-9a7a-4012-b478-45a70d66ed3e",
   "metadata": {},
   "source": [
    "Let's now consider the Dow Jones Industrial Average, a stock market index created in 1896 by Charles Dow. It's initial value at inception was 40.94, and as of market close on the last day of 2019 was 28538.44.  \n",
    "\n",
    "1. Fit an exponential growth model to the DJIA price level and interpret. What is the APY for the DJIA over this period?\n",
    "2. Is this a good model for the DJIA?  Why or why not?\n",
    "\n",
    "This model is related to the Black-Scholes model for derivative pricing!"
   ]
  },
  {
   "cell_type": "code",
   "execution_count": 21,
   "id": "1c6699d8-05cc-48fc-a93c-a2c0b567cc72",
   "metadata": {},
   "outputs": [],
   "source": [
    "# Function that fits an exponential growth model (HINT: What is the formula for r?)\n",
    "def exp_model_fit(initial,final,t): \n",
    "    \n",
    "    r = np.log(final/initial) / t\n",
    "    \n",
    "    return r # out should be the rate, r!"
   ]
  },
  {
   "cell_type": "markdown",
   "id": "a275cae0-a1bd-46fc-b41d-71813c69a4a4",
   "metadata": {},
   "source": [
    "How well is your model at forecasting?  Here's a small data set that you can test on:\n",
    "\n",
    "year | closing price\n",
    "-----|--------------\n",
    "2000 | 10787.99\n",
    "2023 | 37689.54"
   ]
  },
  {
   "cell_type": "code",
   "execution_count": 23,
   "id": "e12caa79-c467-4416-a9cb-9f792390d194",
   "metadata": {},
   "outputs": [
    {
     "data": {
      "text/plain": [
       "0.0527975778159486"
      ]
     },
     "execution_count": 23,
     "metadata": {},
     "output_type": "execute_result"
    }
   ],
   "source": [
    "t = 2019 - 1896 + 1\n",
    "DJ_r = exp_model_fit(40.94,28538.44,t)\n",
    "DJ_r"
   ]
  },
  {
   "cell_type": "code",
   "execution_count": 25,
   "id": "0f697857-0c50-4cf3-bd82-76109757e18f",
   "metadata": {},
   "outputs": [
    {
     "data": {
      "text/plain": [
       "0.05421622676869542"
      ]
     },
     "execution_count": 25,
     "metadata": {},
     "output_type": "execute_result"
    }
   ],
   "source": [
    "APY = np.exp(DJ_r) - 1\n",
    "APY"
   ]
  },
  {
   "cell_type": "code",
   "execution_count": 20,
   "id": "771a143b-2138-4089-bd91-783f31b86ae3",
   "metadata": {},
   "outputs": [
    {
     "data": {
      "text/plain": [
       "38304.80502556249"
      ]
     },
     "execution_count": 20,
     "metadata": {},
     "output_type": "execute_result"
    }
   ],
   "source": [
    "forecast_2023 = continuous_compound(10787.99,DJ_r,24)\n",
    "forecast_2023"
   ]
  },
  {
   "cell_type": "code",
   "execution_count": null,
   "id": "d571ed6e-b116-4c94-878c-b20000687f17",
   "metadata": {},
   "outputs": [],
   "source": []
  }
 ],
 "metadata": {
  "kernelspec": {
   "display_name": "Python 3 (ipykernel)",
   "language": "python",
   "name": "python3"
  },
  "language_info": {
   "codemirror_mode": {
    "name": "ipython",
    "version": 3
   },
   "file_extension": ".py",
   "mimetype": "text/x-python",
   "name": "python",
   "nbconvert_exporter": "python",
   "pygments_lexer": "ipython3",
   "version": "3.11.3"
  }
 },
 "nbformat": 4,
 "nbformat_minor": 5
}
