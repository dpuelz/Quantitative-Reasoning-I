{
 "cells": [
  {
   "cell_type": "code",
   "execution_count": 4,
   "metadata": {},
   "outputs": [
    {
     "data": {
      "application/vnd.jupyter.widget-view+json": {
       "model_id": "fd209d2bcf6d4da1bd0117f0dcc3a54e",
       "version_major": 2,
       "version_minor": 0
      },
      "text/plain": [
       "interactive(children=(FloatSlider(value=2.5, description='Slope', max=5.0), FloatSlider(value=5.0, description…"
      ]
     },
     "metadata": {},
     "output_type": "display_data"
    },
    {
     "data": {
      "text/plain": [
       "<function __main__.plot_least_squares_with_residuals(slope, intercept)>"
      ]
     },
     "execution_count": 4,
     "metadata": {},
     "output_type": "execute_result"
    }
   ],
   "source": [
    "import numpy as np\n",
    "import matplotlib.pyplot as plt\n",
    "from ipywidgets import interact, FloatSlider\n",
    "import ipywidgets as widgets\n",
    "\n",
    "# Generate some sample data\n",
    "np.random.seed(42)\n",
    "x = np.linspace(0, 10, 10)\n",
    "y = 3 * x + 7 + np.random.normal(0, 10, x.size)  # true slope is 3, intercept is 7\n",
    "\n",
    "# Define a function to plot the data and residuals\n",
    "def plot_least_squares_with_residuals(slope, intercept):\n",
    "    # Compute predictions based on the slope and intercept\n",
    "    y_pred = slope * x + intercept\n",
    "    residuals = y - y_pred\n",
    "\n",
    "    # Create subplots for original plot and residuals\n",
    "    fig, (ax1, ax2) = plt.subplots(1, 2, figsize=(12, 5))\n",
    "\n",
    "    # Original plot with squared errors\n",
    "    ax1.scatter(x, y, label='Data Points', color='blue')\n",
    "    ax1.plot(x, y_pred, label=f'Line: $y={slope:.2f}x + {intercept:.2f}$', color='red')\n",
    "    for xi, yi, ypi in zip(x, y, y_pred):\n",
    "        ax1.plot([xi, xi], [yi, ypi], 'k--', linewidth=0.5)  # line from point to prediction\n",
    "        ax1.fill_betweenx([yi, ypi], xi - 0.1, xi + 0.1, color='orange', alpha=0.4)  # colored square\n",
    "    ax1.set_title('Data with Least Squares')\n",
    "    ax1.set_xlabel('x')\n",
    "    ax1.set_ylabel('y')\n",
    "    ax1.legend()\n",
    "\n",
    "    # Plot residuals\n",
    "    ax2.stem(x, residuals, linefmt=\"gray\", markerfmt=\"ro\", basefmt=\"black\")\n",
    "    ax2.axhline(0, color='black', linewidth=0.5)\n",
    "    ax2.set_title('Residuals')\n",
    "    ax2.set_xlabel('x')\n",
    "    ax2.set_ylabel('Residuals (y - ŷ)')\n",
    "    \n",
    "    # Display the Sum of Squared Errors (SSE) in the title\n",
    "    sse = np.sum(residuals ** 2)\n",
    "    fig.suptitle(f'Sum of Squared Errors (SSE): {sse:.2f}', fontsize=14)\n",
    "    plt.tight_layout()\n",
    "    plt.show()\n",
    "\n",
    "# Interactive sliders for slope and intercept\n",
    "slope_slider = FloatSlider(value=2.5, min=0, max=5, step=0.1, description='Slope')\n",
    "intercept_slider = FloatSlider(value=5.0, min=0, max=10, step=0.1, description='Intercept')\n",
    "\n",
    "# Create an interactive plot\n",
    "interact(plot_least_squares_with_residuals, slope=slope_slider, intercept=intercept_slider)\n"
   ]
  },
  {
   "cell_type": "code",
   "execution_count": null,
   "metadata": {},
   "outputs": [],
   "source": []
  }
 ],
 "metadata": {
  "kernelspec": {
   "display_name": "IntroMLenv",
   "language": "python",
   "name": "python3"
  },
  "language_info": {
   "codemirror_mode": {
    "name": "ipython",
    "version": 3
   },
   "file_extension": ".py",
   "mimetype": "text/x-python",
   "name": "python",
   "nbconvert_exporter": "python",
   "pygments_lexer": "ipython3",
   "version": "3.10.10"
  }
 },
 "nbformat": 4,
 "nbformat_minor": 2
}
