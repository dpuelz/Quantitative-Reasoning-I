{
 "cells": [
  {
   "cell_type": "code",
   "execution_count": 1,
   "metadata": {},
   "outputs": [
    {
     "data": {
      "application/vnd.jupyter.widget-view+json": {
       "model_id": "e411708d3ba04818858798703ebc9e5c",
       "version_major": 2,
       "version_minor": 0
      },
      "text/plain": [
       "interactive(children=(FloatSlider(value=2.5, description='Slope', max=5.0), FloatSlider(value=5.0, description…"
      ]
     },
     "metadata": {},
     "output_type": "display_data"
    },
    {
     "data": {
      "text/plain": [
       "<function __main__.plot_least_squares(slope, intercept)>"
      ]
     },
     "execution_count": 1,
     "metadata": {},
     "output_type": "execute_result"
    }
   ],
   "source": [
    "import numpy as np\n",
    "import matplotlib.pyplot as plt\n",
    "from ipywidgets import interact, FloatSlider\n",
    "import ipywidgets as widgets\n",
    "\n",
    "# Generate some sample data\n",
    "np.random.seed(42)\n",
    "x = np.linspace(0, 10, 15)\n",
    "y = 3 * x + 7 + np.random.normal(0, 2, x.size)  # true slope is 3, intercept is 7\n",
    "\n",
    "# Define a function to plot the data and squares of prediction errors\n",
    "def plot_least_squares(slope, intercept):\n",
    "    # Compute predictions based on the slope and intercept\n",
    "    y_pred = slope * x + intercept\n",
    "    \n",
    "    # Plot data points\n",
    "    plt.scatter(x, y, label='Data Points', color='blue')\n",
    "    \n",
    "    # Plot the line\n",
    "    plt.plot(x, y_pred, label=f'Line: $y={slope:.2f}x + {intercept:.2f}$', color='red')\n",
    "    \n",
    "    # Plot the squares of the errors\n",
    "    for xi, yi, ypi in zip(x, y, y_pred):\n",
    "        plt.plot([xi, xi], [yi, ypi], 'k--', linewidth=0.5)  # line from point to prediction\n",
    "        plt.fill_betweenx([yi, ypi], xi - 0.1, xi + 0.1, color='orange', alpha=0.4)  # colored square\n",
    "    \n",
    "    # Calculate the sum of squared errors\n",
    "    sse = np.sum((y - y_pred) ** 2)\n",
    "    \n",
    "    # Title and labels\n",
    "    plt.title(f'Sum of Squared Errors (SSE): {sse:.2f}')\n",
    "    plt.xlabel('x')\n",
    "    plt.ylabel('y')\n",
    "    plt.legend()\n",
    "    plt.show()\n",
    "\n",
    "# Interactive sliders for slope and intercept\n",
    "slope_slider = FloatSlider(value=2.5, min=0, max=5, step=0.1, description='Slope')\n",
    "intercept_slider = FloatSlider(value=5.0, min=0, max=10, step=0.1, description='Intercept')\n",
    "\n",
    "# Create an interactive plot\n",
    "interact(plot_least_squares, slope=slope_slider, intercept=intercept_slider)\n"
   ]
  },
  {
   "cell_type": "code",
   "execution_count": null,
   "metadata": {},
   "outputs": [],
   "source": []
  }
 ],
 "metadata": {
  "kernelspec": {
   "display_name": "IntroMLenv",
   "language": "python",
   "name": "python3"
  },
  "language_info": {
   "codemirror_mode": {
    "name": "ipython",
    "version": 3
   },
   "file_extension": ".py",
   "mimetype": "text/x-python",
   "name": "python",
   "nbconvert_exporter": "python",
   "pygments_lexer": "ipython3",
   "version": "3.10.10"
  }
 },
 "nbformat": 4,
 "nbformat_minor": 2
}
