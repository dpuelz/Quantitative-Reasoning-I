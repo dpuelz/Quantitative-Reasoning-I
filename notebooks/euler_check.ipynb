{
 "cells": [
  {
   "cell_type": "code",
   "execution_count": 4,
   "id": "d0e9f30c-3f5e-4de2-b8f6-8184335e49f5",
   "metadata": {},
   "outputs": [],
   "source": [
    "# Import necessary libraries\n",
    "import numpy as np\n",
    "import matplotlib.pyplot as plt"
   ]
  },
  {
   "cell_type": "code",
   "execution_count": 8,
   "id": "c2a33dcb-206a-4a68-8c3f-860424cfab72",
   "metadata": {},
   "outputs": [],
   "source": [
    "r=1\n",
    "n=1"
   ]
  },
  {
   "cell_type": "code",
   "execution_count": 9,
   "id": "91a84e1d-4cb1-4353-8e3c-9681e6c172e7",
   "metadata": {},
   "outputs": [
    {
     "data": {
      "text/plain": [
       "2.718281828459045"
      ]
     },
     "execution_count": 9,
     "metadata": {},
     "output_type": "execute_result"
    }
   ],
   "source": [
    "np.exp(r)"
   ]
  },
  {
   "cell_type": "code",
   "execution_count": 10,
   "id": "116b8a26-007f-4649-ac0c-ebd142ca0b84",
   "metadata": {},
   "outputs": [
    {
     "data": {
      "text/plain": [
       "2.0"
      ]
     },
     "execution_count": 10,
     "metadata": {},
     "output_type": "execute_result"
    }
   ],
   "source": [
    "(1 + r/n)**n"
   ]
  },
  {
   "cell_type": "code",
   "execution_count": null,
   "id": "b222fee0-d939-4276-a376-86c4c74f4365",
   "metadata": {},
   "outputs": [],
   "source": []
  }
 ],
 "metadata": {
  "kernelspec": {
   "display_name": "Python 3 (ipykernel)",
   "language": "python",
   "name": "python3"
  },
  "language_info": {
   "codemirror_mode": {
    "name": "ipython",
    "version": 3
   },
   "file_extension": ".py",
   "mimetype": "text/x-python",
   "name": "python",
   "nbconvert_exporter": "python",
   "pygments_lexer": "ipython3",
   "version": "3.11.3"
  }
 },
 "nbformat": 4,
 "nbformat_minor": 5
}
