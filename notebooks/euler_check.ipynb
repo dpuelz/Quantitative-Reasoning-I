{
 "cells": [
  {
   "cell_type": "code",
   "execution_count": 1,
   "id": "d0e9f30c-3f5e-4de2-b8f6-8184335e49f5",
   "metadata": {},
   "outputs": [],
   "source": [
    "# Import necessary libraries\n",
    "import numpy as np\n",
    "import matplotlib.pyplot as plt"
   ]
  },
  {
   "cell_type": "code",
   "execution_count": 26,
   "id": "c2a33dcb-206a-4a68-8c3f-860424cfab72",
   "metadata": {},
   "outputs": [],
   "source": [
    "r=1\n",
    "n=1000000\n",
    "tolerance = 10**-5"
   ]
  },
  {
   "cell_type": "code",
   "execution_count": 27,
   "id": "91a84e1d-4cb1-4353-8e3c-9681e6c172e7",
   "metadata": {},
   "outputs": [
    {
     "data": {
      "text/plain": [
       "True"
      ]
     },
     "execution_count": 27,
     "metadata": {},
     "output_type": "execute_result"
    }
   ],
   "source": [
    "np.abs(np.exp(r) - (1 + r/n)**n) < tolerance"
   ]
  },
  {
   "cell_type": "code",
   "execution_count": 28,
   "id": "116b8a26-007f-4649-ac0c-ebd142ca0b84",
   "metadata": {},
   "outputs": [
    {
     "data": {
      "text/plain": [
       "2.7182804690957534"
      ]
     },
     "execution_count": 28,
     "metadata": {},
     "output_type": "execute_result"
    }
   ],
   "source": [
    "(1 + r/n)**n"
   ]
  },
  {
   "cell_type": "code",
   "execution_count": 29,
   "id": "b222fee0-d939-4276-a376-86c4c74f4365",
   "metadata": {},
   "outputs": [
    {
     "data": {
      "text/plain": [
       "1.359363291708604e-06"
      ]
     },
     "execution_count": 29,
     "metadata": {},
     "output_type": "execute_result"
    }
   ],
   "source": [
    "np.abs(np.exp(r) - (1 + r/n)**n)"
   ]
  },
  {
   "cell_type": "code",
   "execution_count": null,
   "id": "c7164e58-54e4-4190-9d06-9c1f75928ef3",
   "metadata": {},
   "outputs": [],
   "source": []
  },
  {
   "cell_type": "code",
   "execution_count": 30,
   "id": "a59a708f-b392-477d-8129-339bef7e0e71",
   "metadata": {},
   "outputs": [
    {
     "name": "stdin",
     "output_type": "stream",
     "text": [
      "Enter a number:  2\n"
     ]
    }
   ],
   "source": [
    "user_input = input(\"Enter a number: \")"
   ]
  },
  {
   "cell_type": "code",
   "execution_count": 31,
   "id": "2b89ef26-a011-41a7-8871-6fe81bb8c07a",
   "metadata": {},
   "outputs": [
    {
     "data": {
      "text/plain": [
       "'2'"
      ]
     },
     "execution_count": 31,
     "metadata": {},
     "output_type": "execute_result"
    }
   ],
   "source": [
    "user_input"
   ]
  },
  {
   "cell_type": "code",
   "execution_count": 32,
   "id": "dfabbff3-9ecd-4d0a-8973-383fef5ba665",
   "metadata": {},
   "outputs": [
    {
     "data": {
      "text/plain": [
       "2.0"
      ]
     },
     "execution_count": 32,
     "metadata": {},
     "output_type": "execute_result"
    }
   ],
   "source": [
    "float(user_input)"
   ]
  },
  {
   "cell_type": "code",
   "execution_count": null,
   "id": "613edcb1-4b57-471b-b2da-338464ad154e",
   "metadata": {},
   "outputs": [],
   "source": []
  }
 ],
 "metadata": {
  "kernelspec": {
   "display_name": "Python 3 (ipykernel)",
   "language": "python",
   "name": "python3"
  },
  "language_info": {
   "codemirror_mode": {
    "name": "ipython",
    "version": 3
   },
   "file_extension": ".py",
   "mimetype": "text/x-python",
   "name": "python",
   "nbconvert_exporter": "python",
   "pygments_lexer": "ipython3",
   "version": "3.11.3"
  }
 },
 "nbformat": 4,
 "nbformat_minor": 5
}
