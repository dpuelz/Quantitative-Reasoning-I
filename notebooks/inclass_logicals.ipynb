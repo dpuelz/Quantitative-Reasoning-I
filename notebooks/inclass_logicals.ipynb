{
 "cells": [
  {
   "cell_type": "markdown",
   "id": "9fe5e354-05ed-425e-a609-5b7458901748",
   "metadata": {
    "tags": []
   },
   "source": [
    "# Introduction to Logicals in Python"
   ]
  },
  {
   "cell_type": "code",
   "execution_count": 4,
   "id": "65e271de-fc02-4f64-911d-d7d0926d3ee3",
   "metadata": {
    "collapsed": true,
    "jupyter": {
     "outputs_hidden": true
    }
   },
   "outputs": [],
   "source": [
    "import math\n",
    "import numpy as np\n",
    "import pandas as pd"
   ]
  },
  {
   "cell_type": "markdown",
   "id": "4b988b67-6958-49df-a43e-80d0a560bcb0",
   "metadata": {},
   "source": [
    "We will use the following data from a randomized experiment.  Let's load it in and come back to it shortly."
   ]
  },
  {
   "cell_type": "code",
   "execution_count": 54,
   "id": "f08cd5bb-26c3-4ef6-a5ff-c65854918209",
   "metadata": {
    "tags": []
   },
   "outputs": [
    {
     "data": {
      "text/plain": [
       "(4870, 4)"
      ]
     },
     "execution_count": 54,
     "metadata": {},
     "output_type": "execute_result"
    }
   ],
   "source": [
    "resume = pd.read_csv('../data/resume.csv')\n",
    "resume.shape"
   ]
  },
  {
   "cell_type": "code",
   "execution_count": 55,
   "id": "8131aae6-749e-4ada-976d-42699f1b96ba",
   "metadata": {
    "tags": []
   },
   "outputs": [
    {
     "data": {
      "text/html": [
       "<div>\n",
       "<style scoped>\n",
       "    .dataframe tbody tr th:only-of-type {\n",
       "        vertical-align: middle;\n",
       "    }\n",
       "\n",
       "    .dataframe tbody tr th {\n",
       "        vertical-align: top;\n",
       "    }\n",
       "\n",
       "    .dataframe thead th {\n",
       "        text-align: right;\n",
       "    }\n",
       "</style>\n",
       "<table border=\"1\" class=\"dataframe\">\n",
       "  <thead>\n",
       "    <tr style=\"text-align: right;\">\n",
       "      <th></th>\n",
       "      <th>firstname</th>\n",
       "      <th>sex</th>\n",
       "      <th>race</th>\n",
       "      <th>call</th>\n",
       "    </tr>\n",
       "  </thead>\n",
       "  <tbody>\n",
       "    <tr>\n",
       "      <th>0</th>\n",
       "      <td>Allison</td>\n",
       "      <td>female</td>\n",
       "      <td>white</td>\n",
       "      <td>0</td>\n",
       "    </tr>\n",
       "    <tr>\n",
       "      <th>1</th>\n",
       "      <td>Kristen</td>\n",
       "      <td>female</td>\n",
       "      <td>white</td>\n",
       "      <td>0</td>\n",
       "    </tr>\n",
       "    <tr>\n",
       "      <th>2</th>\n",
       "      <td>Lakisha</td>\n",
       "      <td>female</td>\n",
       "      <td>black</td>\n",
       "      <td>0</td>\n",
       "    </tr>\n",
       "    <tr>\n",
       "      <th>3</th>\n",
       "      <td>Latonya</td>\n",
       "      <td>female</td>\n",
       "      <td>black</td>\n",
       "      <td>0</td>\n",
       "    </tr>\n",
       "    <tr>\n",
       "      <th>4</th>\n",
       "      <td>Carrie</td>\n",
       "      <td>female</td>\n",
       "      <td>white</td>\n",
       "      <td>0</td>\n",
       "    </tr>\n",
       "  </tbody>\n",
       "</table>\n",
       "</div>"
      ],
      "text/plain": [
       "  firstname     sex   race  call\n",
       "0   Allison  female  white     0\n",
       "1   Kristen  female  white     0\n",
       "2   Lakisha  female  black     0\n",
       "3   Latonya  female  black     0\n",
       "4    Carrie  female  white     0"
      ]
     },
     "execution_count": 55,
     "metadata": {},
     "output_type": "execute_result"
    }
   ],
   "source": [
    "resume.head()"
   ]
  },
  {
   "cell_type": "code",
   "execution_count": 56,
   "id": "6440d42f-3f85-4093-9411-86d48b985872",
   "metadata": {
    "tags": []
   },
   "outputs": [
    {
     "data": {
      "text/plain": [
       "bool"
      ]
     },
     "execution_count": 56,
     "metadata": {},
     "output_type": "execute_result"
    }
   ],
   "source": [
    "type(True)"
   ]
  },
  {
   "cell_type": "code",
   "execution_count": 57,
   "id": "ad4a8aea-c395-4315-989a-18312874c724",
   "metadata": {
    "tags": []
   },
   "outputs": [
    {
     "data": {
      "text/plain": [
       "1"
      ]
     },
     "execution_count": 57,
     "metadata": {},
     "output_type": "execute_result"
    }
   ],
   "source": [
    "int(True)"
   ]
  },
  {
   "cell_type": "code",
   "execution_count": 58,
   "id": "f1ad9758-f3a3-4df9-a640-1d3863fd5dd5",
   "metadata": {
    "tags": []
   },
   "outputs": [
    {
     "data": {
      "text/plain": [
       "0"
      ]
     },
     "execution_count": 58,
     "metadata": {},
     "output_type": "execute_result"
    }
   ],
   "source": [
    "int(False)"
   ]
  },
  {
   "cell_type": "code",
   "execution_count": 59,
   "id": "7dfe21d9-32ca-4f09-8db5-b853f6739f20",
   "metadata": {
    "tags": []
   },
   "outputs": [
    {
     "data": {
      "text/plain": [
       "0.67"
      ]
     },
     "execution_count": 59,
     "metadata": {},
     "output_type": "execute_result"
    }
   ],
   "source": [
    "x = pd.Series([True, False, True]) # a vector with boolean values \n",
    "x.mean().round(2) # proportion of True values"
   ]
  },
  {
   "cell_type": "code",
   "execution_count": 60,
   "id": "ab765ddd-65df-491e-bbe9-983357da3a15",
   "metadata": {
    "tags": []
   },
   "outputs": [
    {
     "data": {
      "text/plain": [
       "2"
      ]
     },
     "execution_count": 60,
     "metadata": {},
     "output_type": "execute_result"
    }
   ],
   "source": [
    "x.sum() # number of True values"
   ]
  },
  {
   "cell_type": "code",
   "execution_count": 61,
   "id": "981c0e28-4a5c-4ba2-9ad6-56d64ec9b8ec",
   "metadata": {
    "tags": []
   },
   "outputs": [
    {
     "data": {
      "text/plain": [
       "False"
      ]
     },
     "execution_count": 61,
     "metadata": {},
     "output_type": "execute_result"
    }
   ],
   "source": [
    "False & True"
   ]
  },
  {
   "cell_type": "code",
   "execution_count": 62,
   "id": "cebcce46-45c8-40f1-ad94-117293df658c",
   "metadata": {
    "tags": []
   },
   "outputs": [
    {
     "data": {
      "text/plain": [
       "True"
      ]
     },
     "execution_count": 62,
     "metadata": {},
     "output_type": "execute_result"
    }
   ],
   "source": [
    "True & True"
   ]
  },
  {
   "cell_type": "code",
   "execution_count": 63,
   "id": "c3861090-6f63-4992-af4c-c6b30d7454fc",
   "metadata": {
    "tags": []
   },
   "outputs": [
    {
     "data": {
      "text/plain": [
       "True"
      ]
     },
     "execution_count": 63,
     "metadata": {},
     "output_type": "execute_result"
    }
   ],
   "source": [
    "True | False "
   ]
  },
  {
   "cell_type": "code",
   "execution_count": 64,
   "id": "159b3eec-a668-45ed-b67b-3f0013c60f8e",
   "metadata": {
    "tags": []
   },
   "outputs": [
    {
     "data": {
      "text/plain": [
       "False"
      ]
     },
     "execution_count": 64,
     "metadata": {},
     "output_type": "execute_result"
    }
   ],
   "source": [
    "False | False"
   ]
  },
  {
   "cell_type": "code",
   "execution_count": 65,
   "id": "85570bf2-a535-44df-870c-a08582b429fb",
   "metadata": {
    "tags": []
   },
   "outputs": [
    {
     "data": {
      "text/plain": [
       "False"
      ]
     },
     "execution_count": 65,
     "metadata": {},
     "output_type": "execute_result"
    }
   ],
   "source": [
    "True & False & True"
   ]
  },
  {
   "cell_type": "code",
   "execution_count": 15,
   "id": "b3ce0f72-4369-42d2-bf25-c6685ffff616",
   "metadata": {
    "collapsed": true,
    "jupyter": {
     "outputs_hidden": true
    }
   },
   "outputs": [
    {
     "data": {
      "text/plain": [
       "False"
      ]
     },
     "execution_count": 15,
     "metadata": {},
     "output_type": "execute_result"
    }
   ],
   "source": [
    "# Parentheses evaluate to False\n",
    "(True | False) & False"
   ]
  },
  {
   "cell_type": "code",
   "execution_count": 16,
   "id": "a985381f-1807-478d-bf82-5c280d142c89",
   "metadata": {
    "collapsed": true,
    "jupyter": {
     "outputs_hidden": true
    }
   },
   "outputs": [
    {
     "data": {
      "text/plain": [
       "True"
      ]
     },
     "execution_count": 16,
     "metadata": {},
     "output_type": "execute_result"
    }
   ],
   "source": [
    "# Parentheses evaluate to True\n",
    "True | (False & False)"
   ]
  },
  {
   "cell_type": "code",
   "execution_count": 17,
   "id": "cbe62289-2415-41d1-bb46-ea96eaedfa9c",
   "metadata": {
    "collapsed": true,
    "jupyter": {
     "outputs_hidden": true
    }
   },
   "outputs": [
    {
     "data": {
      "text/plain": [
       "0     True\n",
       "1    False\n",
       "2     True\n",
       "dtype: bool"
      ]
     },
     "execution_count": 17,
     "metadata": {},
     "output_type": "execute_result"
    }
   ],
   "source": [
    "# Vector-wise logical operations \n",
    "TF1 = pd.Series([True, False, False])\n",
    "TF2 = pd.Series([True, False, True])\n",
    "TF1 | TF2"
   ]
  },
  {
   "cell_type": "code",
   "execution_count": 18,
   "id": "bea02a9c-e15a-4792-9de2-2ce47380e914",
   "metadata": {
    "collapsed": true,
    "jupyter": {
     "outputs_hidden": true
    }
   },
   "outputs": [
    {
     "data": {
      "text/plain": [
       "0     True\n",
       "1    False\n",
       "2    False\n",
       "dtype: bool"
      ]
     },
     "execution_count": 18,
     "metadata": {},
     "output_type": "execute_result"
    }
   ],
   "source": [
    "TF1 & TF2"
   ]
  },
  {
   "cell_type": "code",
   "execution_count": 19,
   "id": "5dec0ee7-5768-4124-aaa2-9e3803def849",
   "metadata": {
    "collapsed": true,
    "jupyter": {
     "outputs_hidden": true
    }
   },
   "outputs": [
    {
     "data": {
      "text/plain": [
       "True"
      ]
     },
     "execution_count": 19,
     "metadata": {},
     "output_type": "execute_result"
    }
   ],
   "source": [
    "4 > 3"
   ]
  },
  {
   "cell_type": "code",
   "execution_count": 20,
   "id": "f8943c23-6fbe-4d51-a8e2-4938a2461864",
   "metadata": {
    "collapsed": true,
    "jupyter": {
     "outputs_hidden": true
    }
   },
   "outputs": [
    {
     "data": {
      "text/plain": [
       "False"
      ]
     },
     "execution_count": 20,
     "metadata": {},
     "output_type": "execute_result"
    }
   ],
   "source": [
    "\"Hello\" == \"hello\" # Python is case-sensitive"
   ]
  },
  {
   "cell_type": "code",
   "execution_count": 21,
   "id": "c6b108a2-e69e-4667-bf48-9c5c40824891",
   "metadata": {
    "collapsed": true,
    "jupyter": {
     "outputs_hidden": true
    }
   },
   "outputs": [
    {
     "data": {
      "text/plain": [
       "True"
      ]
     },
     "execution_count": 21,
     "metadata": {},
     "output_type": "execute_result"
    }
   ],
   "source": [
    "\"Hello\" != \"hello\""
   ]
  },
  {
   "cell_type": "code",
   "execution_count": 23,
   "id": "cffa3a99-398b-42e9-93d4-716b01737102",
   "metadata": {
    "collapsed": true,
    "jupyter": {
     "outputs_hidden": true
    }
   },
   "outputs": [
    {
     "data": {
      "text/plain": [
       "0     True\n",
       "1     True\n",
       "2    False\n",
       "3    False\n",
       "4    False\n",
       "dtype: bool"
      ]
     },
     "execution_count": 23,
     "metadata": {},
     "output_type": "execute_result"
    }
   ],
   "source": [
    "x = pd.Series([3, 2, 1, -2, -1])\n",
    "x >= 2"
   ]
  },
  {
   "cell_type": "code",
   "execution_count": 24,
   "id": "dda2050e-dfce-4b61-8689-3a767db167d2",
   "metadata": {
    "collapsed": true,
    "jupyter": {
     "outputs_hidden": true
    }
   },
   "outputs": [
    {
     "data": {
      "text/plain": [
       "0     True\n",
       "1     True\n",
       "2    False\n",
       "3     True\n",
       "4     True\n",
       "dtype: bool"
      ]
     },
     "execution_count": 24,
     "metadata": {},
     "output_type": "execute_result"
    }
   ],
   "source": [
    "x != 1"
   ]
  },
  {
   "cell_type": "code",
   "execution_count": 25,
   "id": "55e2683b-f1cb-483f-8cc1-835b90cc56ca",
   "metadata": {
    "collapsed": true,
    "jupyter": {
     "outputs_hidden": true
    }
   },
   "outputs": [
    {
     "data": {
      "text/plain": [
       "0    False\n",
       "1     True\n",
       "2     True\n",
       "3    False\n",
       "4    False\n",
       "dtype: bool"
      ]
     },
     "execution_count": 25,
     "metadata": {},
     "output_type": "execute_result"
    }
   ],
   "source": [
    "# logical conjunction of two vectors with boolean values\n",
    "(x > 0) & (x <= 2)"
   ]
  },
  {
   "cell_type": "code",
   "execution_count": 26,
   "id": "62381938-3fe1-4e8b-813b-9771fd2548a8",
   "metadata": {
    "collapsed": true,
    "jupyter": {
     "outputs_hidden": true
    }
   },
   "outputs": [
    {
     "data": {
      "text/plain": [
       "0     True\n",
       "1    False\n",
       "2    False\n",
       "3     True\n",
       "4     True\n",
       "dtype: bool"
      ]
     },
     "execution_count": 26,
     "metadata": {},
     "output_type": "execute_result"
    }
   ],
   "source": [
    "# logical disjunction of two vectors with boolean values\n",
    "(x > 2) | (x <= -1)"
   ]
  },
  {
   "cell_type": "code",
   "execution_count": 27,
   "id": "2a2d80a1-0314-40bd-99ee-9ef02bcf5174",
   "metadata": {
    "collapsed": true,
    "jupyter": {
     "outputs_hidden": true
    }
   },
   "outputs": [
    {
     "data": {
      "text/plain": [
       "0    False\n",
       "1     True\n",
       "2     True\n",
       "3    False\n",
       "4    False\n",
       "dtype: bool"
      ]
     },
     "execution_count": 27,
     "metadata": {},
     "output_type": "execute_result"
    }
   ],
   "source": [
    "x_int = (x > 0) & (x <= 2) # logical vector \n",
    "x_int"
   ]
  },
  {
   "cell_type": "code",
   "execution_count": 28,
   "id": "a6e31cab-687a-4727-a71f-05bb81cbbb14",
   "metadata": {
    "collapsed": true,
    "jupyter": {
     "outputs_hidden": true
    }
   },
   "outputs": [
    {
     "data": {
      "text/plain": [
       "0.4"
      ]
     },
     "execution_count": 28,
     "metadata": {},
     "output_type": "execute_result"
    }
   ],
   "source": [
    "x_int.mean() # proportion of True values"
   ]
  },
  {
   "cell_type": "code",
   "execution_count": 29,
   "id": "dd4f497c-4b0c-461e-acb9-434c8ac1a6fa",
   "metadata": {
    "collapsed": true,
    "jupyter": {
     "outputs_hidden": true
    }
   },
   "outputs": [
    {
     "data": {
      "text/plain": [
       "2"
      ]
     },
     "execution_count": 29,
     "metadata": {},
     "output_type": "execute_result"
    }
   ],
   "source": [
    "x_int.sum() # number of True values"
   ]
  },
  {
   "cell_type": "markdown",
   "id": "9dfeb5c0-abd9-4264-9de0-e5fc241dc584",
   "metadata": {},
   "source": [
    "Going back to the resume experiment!"
   ]
  },
  {
   "cell_type": "code",
   "execution_count": 66,
   "id": "77b8c418-5b77-4bde-84d3-31220c393691",
   "metadata": {
    "tags": []
   },
   "outputs": [
    {
     "data": {
      "text/plain": [
       "0    white\n",
       "1    white\n",
       "2    black\n",
       "3    black\n",
       "4    white\n",
       "Name: race, dtype: object"
      ]
     },
     "execution_count": 66,
     "metadata": {},
     "output_type": "execute_result"
    }
   ],
   "source": [
    "# race of the first 5 observations\n",
    "resume['race'][0:5]"
   ]
  },
  {
   "cell_type": "code",
   "execution_count": 67,
   "id": "4db44e63-14e9-4f89-8e18-b266af551306",
   "metadata": {
    "tags": []
   },
   "outputs": [
    {
     "data": {
      "text/plain": [
       "0    False\n",
       "1    False\n",
       "2     True\n",
       "3     True\n",
       "4    False\n",
       "Name: race, dtype: bool"
      ]
     },
     "execution_count": 67,
     "metadata": {},
     "output_type": "execute_result"
    }
   ],
   "source": [
    "# comparison of first 5 observations\n",
    "resume['race'][0:5] == 'black'"
   ]
  },
  {
   "cell_type": "code",
   "execution_count": 68,
   "id": "7facb111-0e73-4b8b-a6a0-bd567a347cea",
   "metadata": {
    "tags": []
   },
   "outputs": [
    {
     "data": {
      "text/plain": [
       "(4870, 4)"
      ]
     },
     "execution_count": 68,
     "metadata": {},
     "output_type": "execute_result"
    }
   ],
   "source": [
    "resume.shape # dimensions of the original data frame"
   ]
  },
  {
   "cell_type": "code",
   "execution_count": 69,
   "id": "520e430d-b2e5-490d-9d6e-1dd8ecca9622",
   "metadata": {
    "tags": []
   },
   "outputs": [
    {
     "data": {
      "text/plain": [
       "(2435, 4)"
      ]
     },
     "execution_count": 69,
     "metadata": {},
     "output_type": "execute_result"
    }
   ],
   "source": [
    "# subset blacks only\n",
    "resumeB = resume.loc[resume.race == 'black'].copy()\n",
    "resumeW = resume.loc[resume.race == 'white'].copy()\n",
    "resumeB.shape # this data frame has fewer rows than the original "
   ]
  },
  {
   "cell_type": "code",
   "execution_count": 70,
   "id": "7eaa5a81-7ede-45e0-b9d0-2c2dbe5e6c11",
   "metadata": {
    "tags": []
   },
   "outputs": [
    {
     "data": {
      "text/plain": [
       "0.06447638603696099"
      ]
     },
     "execution_count": 70,
     "metadata": {},
     "output_type": "execute_result"
    }
   ],
   "source": [
    "resumeB['call'].mean() # callback rate for blacks"
   ]
  },
  {
   "cell_type": "code",
   "execution_count": 71,
   "id": "eab64554-f02a-4de9-bada-f72ea6aed7d8",
   "metadata": {
    "tags": []
   },
   "outputs": [
    {
     "data": {
      "text/plain": [
       "0.09650924024640657"
      ]
     },
     "execution_count": 71,
     "metadata": {},
     "output_type": "execute_result"
    }
   ],
   "source": [
    "resumeW['call'].mean()"
   ]
  },
  {
   "cell_type": "code",
   "execution_count": 72,
   "id": "90aa7f72-1706-41f7-a05a-1fae36ed85d4",
   "metadata": {
    "tags": []
   },
   "outputs": [
    {
     "data": {
      "text/plain": [
       "firstname\n",
       "Aisha       0.022222\n",
       "Rasheed     0.029851\n",
       "Keisha      0.038251\n",
       "Tremayne    0.043478\n",
       "Kareem      0.046875\n",
       "Darnell     0.047619\n",
       "Tyrone      0.053333\n",
       "Hakim       0.054545\n",
       "Tamika      0.054688\n",
       "Lakisha     0.055000\n",
       "Name: call, dtype: float64"
      ]
     },
     "execution_count": 72,
     "metadata": {},
     "output_type": "execute_result"
    }
   ],
   "source": [
    "# compute callback rate for each first name\n",
    "callback_name = resume.groupby('firstname')['call'].mean()\n",
    "\n",
    "# look at the names with the lowest callback rates\n",
    "callback_name.sort_values().head(n=10)"
   ]
  },
  {
   "cell_type": "markdown",
   "id": "1dc856fb-83ec-4075-936b-8c81d26a9567",
   "metadata": {},
   "source": [
    "#### Your turn!\n",
    "\n",
    "Please answer the following questions:\n",
    "\n",
    "1. How does randomization help the scientific question here?\n",
    "2. What effect does race have on callback rates?\n",
    "3. Does that effect vary by gender?"
   ]
  },
  {
   "cell_type": "code",
   "execution_count": null,
   "id": "902f188d-d71d-4819-84ba-c21839f47177",
   "metadata": {
    "collapsed": true,
    "jupyter": {
     "outputs_hidden": true
    }
   },
   "outputs": [],
   "source": []
  }
 ],
 "metadata": {
  "kernelspec": {
   "display_name": "Python 3 (ipykernel)",
   "language": "python",
   "name": "python3"
  },
  "language_info": {
   "codemirror_mode": {
    "name": "ipython",
    "version": 3
   },
   "file_extension": ".py",
   "mimetype": "text/x-python",
   "name": "python",
   "nbconvert_exporter": "python",
   "pygments_lexer": "ipython3",
   "version": "3.11.3"
  }
 },
 "nbformat": 4,
 "nbformat_minor": 5
}
