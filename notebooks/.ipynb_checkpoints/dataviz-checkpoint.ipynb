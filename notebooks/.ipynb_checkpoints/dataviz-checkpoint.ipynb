{
 "cells": [
  {
   "cell_type": "code",
   "execution_count": null,
   "id": "c1533026-9ea0-48e0-9430-c98e0534e016",
   "metadata": {},
   "outputs": [],
   "source": [
    "# Importing necessary libraries\n",
    "import seaborn as sns\n",
    "import matplotlib.pyplot as plt\n",
    "\n",
    "# Load the Anscombe's Quartet dataset from seaborn\n",
    "anscombe = sns.load_dataset(\"anscombe\")\n",
    "\n",
    "# Display the first few rows of the dataset\n",
    "anscombe.head()\n",
    "\n",
    "# Anscombe's Quartet consists of 4 different datasets (I, II, III, IV) that have nearly identical statistical properties\n",
    "# but look very different when graphed.\n",
    "# We'll group the dataset by 'dataset' and plot each one separately.\n",
    "\n",
    "# Set up the overall layout for 4 plots (2 rows and 2 columns)\n",
    "fig, axs = plt.subplots(2, 2, figsize=(10, 8))\n",
    "\n",
    "# Define titles and the position in the grid\n",
    "dataset_titles = ['Dataset I', 'Dataset II', 'Dataset III', 'Dataset IV']\n",
    "positions = [(0, 0), (0, 1), (1, 0), (1, 1)]\n",
    "\n",
    "# Iterate over each dataset in Anscombe's Quartet\n",
    "for i, dataset in enumerate(anscombe['dataset'].unique()):\n",
    "    # Extract data for the current dataset (I, II, III, or IV)\n",
    "    data = anscombe[anscombe['dataset'] == dataset]\n",
    "    \n",
    "    # Plot the data (x, y)\n",
    "    row, col = positions[i]  # Get the subplot position\n",
    "    axs[row, col].scatter(data['x'], data['y'], color='blue', label=f'{dataset_titles[i]}')\n",
    "    \n",
    "    # Set the title and labels for each plot\n",
    "    axs[row, col].set_title(f'{dataset_titles[i]}', fontsize=12)\n",
    "    axs[row, col].set_xlabel('x', fontsize=10)\n",
    "    axs[row, col].set_ylabel('y', fontsize=10)\n",
    "\n",
    "    # Add a regression line (linear fit) for better visualization of the relationship\n",
    "    sns.regplot(x='x', y='y', data=data, ax=axs[row, col], scatter=False, color='red')\n",
    "\n",
    "# Adjust the layout to prevent overlap\n",
    "plt.tight_layout()\n",
    "\n",
    "# Show the plots\n",
    "plt.show()\n",
    "\n",
    "# Explanation:\n",
    "# Each plot corresponds to a dataset in Anscombe's Quartet.\n",
    "# Despite having nearly identical means, variances, and correlations, the data looks very different when plotted,\n",
    "# highlighting the importance of visualizing data, rather than relying solely on summary statistics.\n"
   ]
  }
 ],
 "metadata": {
  "kernelspec": {
   "display_name": "Python 3 (ipykernel)",
   "language": "python",
   "name": "python3"
  },
  "language_info": {
   "codemirror_mode": {
    "name": "ipython",
    "version": 3
   },
   "file_extension": ".py",
   "mimetype": "text/x-python",
   "name": "python",
   "nbconvert_exporter": "python",
   "pygments_lexer": "ipython3",
   "version": "3.11.3"
  }
 },
 "nbformat": 4,
 "nbformat_minor": 5
}
