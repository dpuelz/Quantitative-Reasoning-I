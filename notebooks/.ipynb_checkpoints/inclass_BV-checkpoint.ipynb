{
 "cells": [
  {
   "cell_type": "markdown",
   "id": "9fe5e354-05ed-425e-a609-5b7458901748",
   "metadata": {
    "tags": []
   },
   "source": [
    "# Wiggly curves + Prediction + Bias-variance tradeoff"
   ]
  },
  {
   "cell_type": "code",
   "execution_count": 8,
   "id": "9991d8cf-5af5-4686-b21c-fddef20b399a",
   "metadata": {},
   "outputs": [
    {
     "name": "stdout",
     "output_type": "stream",
     "text": [
      "Found existing installation: pandas 2.2.3\n",
      "Uninstalling pandas-2.2.3:\n",
      "  Successfully uninstalled pandas-2.2.3\n",
      "Collecting lxml\n",
      "  Downloading lxml-5.3.0-cp311-cp311-macosx_10_9_universal2.whl (8.1 MB)\n",
      "\u001b[2K     \u001b[38;2;114;156;31m━━━━━━━━━━━━━━━━━━━━━━━━━━━━━━━━━━━━━━━━\u001b[0m \u001b[32m8.1/8.1 MB\u001b[0m \u001b[31m21.6 MB/s\u001b[0m eta \u001b[36m0:00:00\u001b[0m31m22.2 MB/s\u001b[0m eta \u001b[36m0:00:01\u001b[0m\n",
      "\u001b[?25hInstalling collected packages: lxml\n",
      "\u001b[31mERROR: pip's dependency resolver does not currently take into account all the packages that are installed. This behaviour is the source of the following dependency conflicts.\n",
      "pandas-datareader 0.10.0 requires pandas>=0.23, which is not installed.\n",
      "yfinance 0.2.44 requires pandas>=1.3.0, which is not installed.\u001b[0m\u001b[31m\n",
      "\u001b[0mSuccessfully installed lxml-5.3.0\n",
      "Collecting pandas\n",
      "  Using cached pandas-2.2.3-cp311-cp311-macosx_11_0_arm64.whl (11.3 MB)\n",
      "Requirement already satisfied: numpy>=1.23.2 in /Users/davidpuelz/anaconda3/lib/python3.11/site-packages (from pandas) (2.1.3)\n",
      "Requirement already satisfied: python-dateutil>=2.8.2 in /Users/davidpuelz/anaconda3/lib/python3.11/site-packages (from pandas) (2.9.0.post0)\n",
      "Requirement already satisfied: pytz>=2020.1 in /Users/davidpuelz/anaconda3/lib/python3.11/site-packages (from pandas) (2024.1)\n",
      "Requirement already satisfied: tzdata>=2022.7 in /Users/davidpuelz/anaconda3/lib/python3.11/site-packages (from pandas) (2024.2)\n",
      "Requirement already satisfied: six>=1.5 in /Users/davidpuelz/anaconda3/lib/python3.11/site-packages (from python-dateutil>=2.8.2->pandas) (1.16.0)\n",
      "Installing collected packages: pandas\n",
      "Successfully installed pandas-2.2.3\n"
     ]
    }
   ],
   "source": [
    "# !pip uninstall -y matplotlib\n",
    "# !pip install matplotlib\n",
    "!pip uninstall -y pandas\n",
    "!pip install lxml\n",
    "!pip install pandas"
   ]
  },
  {
   "cell_type": "code",
   "execution_count": 9,
   "id": "65e271de-fc02-4f64-911d-d7d0926d3ee3",
   "metadata": {
    "tags": []
   },
   "outputs": [],
   "source": [
    "import numpy as np\n",
    "import matplotlib.pyplot as plt\n",
    "import pandas as pd"
   ]
  },
  {
   "cell_type": "markdown",
   "id": "4b988b67-6958-49df-a43e-80d0a560bcb0",
   "metadata": {},
   "source": [
    "Read in the ERCOT power demand data"
   ]
  },
  {
   "cell_type": "code",
   "execution_count": 10,
   "id": "87ae8f62-31f2-4d70-911f-dea472a6f06d",
   "metadata": {},
   "outputs": [
    {
     "ename": "AttributeError",
     "evalue": "module 'pandas' has no attribute 'read_csv'",
     "output_type": "error",
     "traceback": [
      "\u001b[0;31m---------------------------------------------------------------------------\u001b[0m",
      "\u001b[0;31mAttributeError\u001b[0m                            Traceback (most recent call last)",
      "Cell \u001b[0;32mIn[10], line 1\u001b[0m\n\u001b[0;32m----> 1\u001b[0m data \u001b[38;5;241m=\u001b[39m pd\u001b[38;5;241m.\u001b[39mread_csv(\u001b[38;5;124m'\u001b[39m\u001b[38;5;124m../data/ERCOT_data.csv\u001b[39m\u001b[38;5;124m'\u001b[39m)\n",
      "\u001b[0;31mAttributeError\u001b[0m: module 'pandas' has no attribute 'read_csv'"
     ]
    }
   ],
   "source": [
    "data = pd.read_csv('../data/ERCOT_data.csv')"
   ]
  },
  {
   "cell_type": "markdown",
   "id": "2d9aa8e3-2eed-4fc7-93ea-2defe82ada6c",
   "metadata": {},
   "source": [
    "Scatter plot power demand and temperature!"
   ]
  },
  {
   "cell_type": "code",
   "execution_count": null,
   "id": "761f2f97-f8f3-4ffd-95bf-5754defe2415",
   "metadata": {},
   "outputs": [],
   "source": [
    "x_data = data['KHOU']\n",
    "y_data = data['COAST']\n",
    "plt.scatter(x_data,y_data,s=7,alpha=0.25,c=\"black\")\n",
    "plt.xlabel('Temperature (F)')\n",
    "plt.ylabel('Power demand (GW)')\n",
    "plt.title('Scatter Plot of COAST vs KHOU')\n",
    "plt.show()"
   ]
  },
  {
   "cell_type": "code",
   "execution_count": null,
   "id": "b061f5b6-ac09-4acc-a4ab-653b2bc8ee21",
   "metadata": {},
   "outputs": [],
   "source": [
    "# Fit a polynomial of degree 1\n",
    "slope, intercept  = np.polyfit(x_data, y_data, 1)\n",
    "x = np.linspace(20,110,500)\n",
    "line = slope * x + intercept \n",
    "\n",
    "# Plot original scatterplot\n",
    "plt.scatter(x_data,y_data,s=7,alpha=0.25,c=\"gray\")\n",
    "\n",
    "# Plot best first-order fit\n",
    "plt.plot(x, line,label = '1st order',color=\"blue\",lw=2)\n",
    "plt.xlabel('Temperature (F)')\n",
    "plt.ylabel('Power demand (GW)')\n",
    "plt.title('Scatter Plot of COAST vs KHOU')"
   ]
  },
  {
   "cell_type": "code",
   "execution_count": null,
   "id": "05d6dfc4-1ac3-493c-baf9-bef0b5d66fb7",
   "metadata": {},
   "outputs": [],
   "source": [
    "def plot_polyfit(x_data, y_data, degree):\n",
    "    \n",
    "    # Fit a polynomial of the specified degree\n",
    "    coeffs = np.polyfit(x_data, y_data, degree)\n",
    "    poly_func = np.poly1d(coeffs)  # Create a polynomial function from the coefficients\n",
    "    \n",
    "    # Generate points for plotting the polynomial fit\n",
    "    x = np.linspace(20,110,500)\n",
    "    \n",
    "    # Generate y values for the fitted line\n",
    "    y_fit = poly_func(x)\n",
    "    \n",
    "    # Plot original scatterplot\n",
    "    plt.scatter(x_data, y_data, s=7, alpha=0.25, c=\"gray\")\n",
    "    \n",
    "    # Plot the polynomial fit line\n",
    "    plt.plot(x, y_fit, label=f'{degree} degree fit', color=\"blue\", lw=2)\n",
    "    plt.xlabel(\"x_data\")\n",
    "    plt.ylabel(\"y_data\")\n",
    "    plt.title(f\"Polynomial Fit of Degree {degree}\")\n",
    "    plt.xlabel('Temperature (F)')\n",
    "    plt.ylabel('Power demand (GW)')\n",
    "    plt.title('Scatter Plot of COAST vs KHOU')\n",
    "    plt.legend()\n",
    "    plt.show()\n",
    "\n",
    "# Example usage with different degrees\n",
    "plot_polyfit(x_data, y_data, 1)  # Linear fit\n",
    "plot_polyfit(x_data, y_data, 2)  # Quadratic fit\n",
    "plot_polyfit(x_data, y_data, 5)  # Cubic fit"
   ]
  },
  {
   "cell_type": "code",
   "execution_count": null,
   "id": "2807a841-9134-4331-9a19-75e7bfb6d612",
   "metadata": {},
   "outputs": [],
   "source": [
    "# Define the train-test split ratio\n",
    "test_ratio = 0.2\n",
    "n_test = int(len(x_data) * test_ratio)\n",
    "\n",
    "# Shuffle the indices and split\n",
    "indices = np.random.permutation(len(x_data))\n",
    "train_indices = indices[n_test:]\n",
    "test_indices = indices[:n_test]\n",
    "\n",
    "# Split the data\n",
    "x_train, y_train = x_data[train_indices], y_data[train_indices]\n",
    "x_test, y_test = x_data[test_indices], y_data[test_indices]\n",
    "\n",
    "# Fit a polynomial of the desired degree on the training data\n",
    "degree = 10  # Adjust degree as desired\n",
    "# coeffs = np.polyfit(x_train, y_train, degree)\n",
    "# poly_func = np.poly1d(coeffs)  # Create a polynomial function from the coefficients\n",
    "spline_params = splrep(x_train, y_train, k=10)\n",
    "\n",
    "# Predict on test data\n",
    "# y_train_pred = poly_func(x_train)\n",
    "# y_test_pred = poly_func(x_test)\n",
    "\n",
    "y_test_pred = splev(x_test, spline_params)\n",
    "y_train_pred = splev(x_train, spline_params)\n",
    "\n",
    "\n",
    "# Plot training data, test data, and polynomial fit\n",
    "plt.scatter(x_train, y_train, color=\"lightblue\", s=7, alpha=0.5,label=\"Training Data\")\n",
    "plt.scatter(x_test, y_test, color=\"pink\",s=7, alpha=0.5, label=\"Test Data\")\n",
    "plt.plot(np.sort(x_train), poly_func(np.sort(x_train)),color=\"blue\", label=f'{degree} degree fit on Train Data', lw=2)\n",
    "\n",
    "plt.xlabel(\"x_data\")\n",
    "plt.ylabel(\"y_data\")\n",
    "plt.title(f\"Polynomial Fit of Degree {degree} with Train-Test Split\")\n",
    "plt.legend()\n",
    "plt.show()"
   ]
  },
  {
   "cell_type": "code",
   "execution_count": null,
   "id": "371bf472-1838-4c69-a960-f74a3c25bd56",
   "metadata": {},
   "outputs": [],
   "source": [
    "def root_mean_squared_error(y_true, y_pred):\n",
    "    # Calculate the squared differences\n",
    "    squared_errors = (y_true - y_pred) ** 2\n",
    "    \n",
    "    # Calculate and return the mean of squared differences\n",
    "    return np.sqrt(np.mean(squared_errors))"
   ]
  },
  {
   "cell_type": "code",
   "execution_count": null,
   "id": "6a67f1aa-9ea0-44bc-a5dd-56a863cff880",
   "metadata": {},
   "outputs": [],
   "source": [
    "# Fit a polynomial of the desired degree on the training data\n",
    "degree = 8  # Adjust degree as desired\n",
    "coeffs = np.polyfit(x_train, y_train, degree)\n",
    "poly_func = np.poly1d(coeffs)  # Create a polynomial function from the coefficients\n",
    "\n",
    "# Predict on test data\n",
    "y_train_pred = poly_func(x_train)\n",
    "y_test_pred = poly_func(x_test)\n",
    "# Calculate MSE on test data\n",
    "test_mse = root_mean_squared_error(y_test, y_test_pred)\n",
    "print(\"Root Mean Squared Error on Test Data:\", test_mse)"
   ]
  },
  {
   "cell_type": "code",
   "execution_count": null,
   "id": "f36ccee5-48e6-4a5b-bf6a-c6a1559b6a47",
   "metadata": {},
   "outputs": [],
   "source": [
    "# Initialize lists to store degrees and corresponding test MSE values\n",
    "degrees = range(12)\n",
    "test_mse_list = []\n",
    "\n",
    "# Loop over polynomial degrees from 0 through 10\n",
    "for degree in degrees:\n",
    "    # Fit a polynomial of the current degree on the training data\n",
    "    coeffs = np.polyfit(x_train, y_train, degree+4)\n",
    "    poly_func = np.poly1d(coeffs)\n",
    "    \n",
    "    # Predict on test data\n",
    "    y_test_pred = poly_func(x_test)\n",
    "    \n",
    "    # Calculate Mean Squared Error on test data and store it\n",
    "    test_mse = root_mean_squared_error(y_test, y_test_pred)\n",
    "    test_mse_list.append(test_mse)\n",
    "\n",
    "# Plot MSE vs. Degree\n",
    "plt.plot(degrees, test_mse_list, marker='o')\n",
    "plt.xlabel(\"Polynomial Degree\")\n",
    "plt.ylabel(\"Root Mean Squared Error (Test Data)\")\n",
    "plt.title(\"RMSE on Test Data for Different Polynomial Degrees\")\n",
    "plt.show()"
   ]
  },
  {
   "cell_type": "code",
   "execution_count": null,
   "id": "f39eeb8e-c388-48af-90a6-483c9d08d866",
   "metadata": {},
   "outputs": [],
   "source": []
  }
 ],
 "metadata": {
  "kernelspec": {
   "display_name": "Python 3 (ipykernel)",
   "language": "python",
   "name": "python3"
  },
  "language_info": {
   "codemirror_mode": {
    "name": "ipython",
    "version": 3
   },
   "file_extension": ".py",
   "mimetype": "text/x-python",
   "name": "python",
   "nbconvert_exporter": "python",
   "pygments_lexer": "ipython3",
   "version": "3.11.10"
  }
 },
 "nbformat": 4,
 "nbformat_minor": 5
}
