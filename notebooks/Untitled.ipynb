{
 "cells": [
  {
   "cell_type": "code",
   "execution_count": 6,
   "id": "bece5111-4462-40f4-8368-5d81817cd36c",
   "metadata": {},
   "outputs": [
    {
     "data": {
      "text/plain": [
       "120.01549488980285"
      ]
     },
     "execution_count": 6,
     "metadata": {},
     "output_type": "execute_result"
    }
   ],
   "source": [
    "r = 1.165\n",
    "P = 300\n",
    "N = 3\n",
    "\n",
    "((r/12)*P) / (1 - ((1+r/12))**(-N))"
   ]
  },
  {
   "cell_type": "code",
   "execution_count": null,
   "id": "d360d566-2525-47fa-8353-749a406b25f8",
   "metadata": {},
   "outputs": [],
   "source": []
  }
 ],
 "metadata": {
  "kernelspec": {
   "display_name": "Python 3 (ipykernel)",
   "language": "python",
   "name": "python3"
  },
  "language_info": {
   "codemirror_mode": {
    "name": "ipython",
    "version": 3
   },
   "file_extension": ".py",
   "mimetype": "text/x-python",
   "name": "python",
   "nbconvert_exporter": "python",
   "pygments_lexer": "ipython3",
   "version": "3.11.3"
  }
 },
 "nbformat": 4,
 "nbformat_minor": 5
}
